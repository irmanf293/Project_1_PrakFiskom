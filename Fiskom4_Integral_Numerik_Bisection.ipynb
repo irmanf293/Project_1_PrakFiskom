{
  "nbformat": 4,
  "nbformat_minor": 0,
  "metadata": {
    "colab": {
      "provenance": []
    },
    "kernelspec": {
      "name": "python3",
      "display_name": "Python 3"
    },
    "language_info": {
      "name": "python"
    }
  },
  "cells": [
    {
      "cell_type": "code",
      "execution_count": null,
      "metadata": {
        "id": "Jx53JS-bWwyr"
      },
      "outputs": [],
      "source": [
        "import numpy as np\n",
        "import matplotlib.pyplot as plt\n",
        "\n",
        "def bisection(f,a,b,tol):\n",
        "\n",
        "    if f(a)*f(b)>0:\n",
        "        print (\"a dan b tidak mengurung akar, tentukan nilai lain\")\n",
        "        return None\n",
        "\n",
        "    c=(a+b)/2\n",
        "\n",
        "    while abs (f(c))>tol:\n",
        "        c=(a+b)/2\n",
        "        if f(a)*f(c)>0:\n",
        "            a=c\n",
        "        if f(b)*f(c)>0:\n",
        "            b=c\n",
        "    return c"
      ]
    },
    {
      "cell_type": "code",
      "source": [
        "from bisection import*\n",
        "def f(x):\n",
        "    y = x**2-4\n",
        "    return y\n",
        "\n",
        "a=float(input('Tebakan Awal a= '))\n",
        "b=float(input('Tebakan Awal b = '))\n",
        "tol = float(input('Toleransi = '))\n",
        "\n",
        "x = bisection(f,a,b,tol)\n",
        "print (\"Akar Persamaan: x = {}\".format(x))"
      ],
      "metadata": {
        "id": "XscdmNeMW21N"
      },
      "execution_count": null,
      "outputs": []
    },
    {
      "cell_type": "markdown",
      "source": [
        "Tebakan Awal a= 10 \\\\\n",
        "Tebakan Awal b = 0.1 \\\\\n",
        "Toleransi = 5 \\\\\n",
        "Akar Persamaan: x = 2.5749999999999997\\\\"
      ],
      "metadata": {
        "id": "r7KYWQSKXFH3"
      }
    },
    {
      "cell_type": "code",
      "source": [
        "from bisection import*\n",
        "from contoh_1_bisection import*\n",
        "\n",
        "# Membuat grafik fungsi\n",
        "x_vals = np.linspace(-5, 5, 1000)\n",
        "y_vals = f(x_vals)\n",
        "\n",
        "plt.figure(figsize=(8, 6))\n",
        "\n",
        "# Plot fungsi\n",
        "plt.plot(x_vals, y_vals, label='$f(x)=x^2-4$')\n",
        "plt.xlabel('x')\n",
        "plt.ylabel('y')\n",
        "plt.title('Grafik $f(x)=x^2-4$ dengan Lokasi Akar')\n",
        "\n",
        "# Menambahkan titik akar pada grafik\n",
        "if x is not None:\n",
        "    plt.scatter(x, f(x), color='red', label=f'Akar di x = {x}')\n",
        "\n",
        "plt.legend()\n",
        "plt.grid()\n",
        "plt.show()"
      ],
      "metadata": {
        "id": "H8OfBKMEXGx9"
      },
      "execution_count": null,
      "outputs": []
    }
  ]
}